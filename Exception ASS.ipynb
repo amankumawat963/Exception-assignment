{
 "cells": [
  {
   "cell_type": "code",
   "execution_count": 1,
   "id": "d89498fd-bf71-41cc-b771-ed9682cd124a",
   "metadata": {},
   "outputs": [],
   "source": [
    "#Q1. An exception is a Python object that represents an error. When a Python script raises an exception, it must either handle the exception immediately otherwise it terminates and quits.\n",
    "# An error is an issue in a program that prevents the program from completing its task. In comparison, an exception is a condition that interrupts the normal flow of the program."
   ]
  },
  {
   "cell_type": "code",
   "execution_count": 2,
   "id": "81c343f0-7204-4aa0-8f4b-046cc51f45b8",
   "metadata": {},
   "outputs": [
    {
     "name": "stdout",
     "output_type": "stream",
     "text": [
      "Error: Denominator cannot be 0.\n",
      "This is finally block.\n"
     ]
    }
   ],
   "source": [
    "#Q2 If the exception is not handled by an except clause, the exception is re-raised after the finally clause has been executed.\n",
    "#example\n",
    "try:\n",
    "    numerator = 10\n",
    "    denominator = 0\n",
    "\n",
    "    result = numerator/denominator\n",
    "\n",
    "    print(result)\n",
    "except:\n",
    "    print(\"Error: Denominator cannot be 0.\")\n",
    "    \n",
    "finally:\n",
    "    print(\"This is finally block.\")"
   ]
  },
  {
   "cell_type": "code",
   "execution_count": 4,
   "id": "4b48bff2-d515-407a-9bb9-a9db1586e6ce",
   "metadata": {},
   "outputs": [
    {
     "name": "stdout",
     "output_type": "stream",
     "text": [
      "this is try and except block [Errno 2] No such file or directory: 'file.txt'\n"
     ]
    }
   ],
   "source": [
    "#Q3. The try and except block in Python is used to catch and handle exceptions.\n",
    "#Example\n",
    "try:\n",
    "    f = open (\"file.txt\", \"r\")\n",
    "except Exception as e:\n",
    "    print(\"this is try and except block\", e)"
   ]
  },
  {
   "cell_type": "code",
   "execution_count": 5,
   "id": "3ff95f4b-a0ed-4974-8116-1bf1c7632f00",
   "metadata": {},
   "outputs": [
    {
     "name": "stdout",
     "output_type": "stream",
     "text": [
      "this will be executed once your try will execute without error\n"
     ]
    }
   ],
   "source": [
    "#Q4. Try: This block will test the excepted error to occur\n",
    "   # Else: If there is no exception then this block will be executed\n",
    "# Example \n",
    "try:\n",
    "    with open(\"file.txt\", \"w\") as f:\n",
    "        f.write(\"this is example\")\n",
    "except Exception as e:\n",
    "    print(\"this is except block\", e)\n",
    "else :\n",
    "    f. close()\n",
    "    print(\"this will be executed once your try will execute without error\")"
   ]
  },
  {
   "cell_type": "code",
   "execution_count": 7,
   "id": "cf5f05ae-1c2c-4b17-b4a4-74cecc9d56c2",
   "metadata": {},
   "outputs": [
    {
     "name": "stdout",
     "output_type": "stream",
     "text": [
      "Nothing went wrong\n",
      "The try...except block is finished\n"
     ]
    }
   ],
   "source": [
    "# Finally :The finally block will always be executed, no matter if the try block raises an error or not:\n",
    "#EXAMPLE\n",
    "try:\n",
    "    x= 4\n",
    "    x > 3\n",
    "except:\n",
    "    print(\"Something went wrong\")\n",
    "else:\n",
    "    print(\"Nothing went wrong\")\n",
    "finally:\n",
    "    print(\"The try...except block is finished\")"
   ]
  },
  {
   "cell_type": "code",
   "execution_count": 9,
   "id": "9f83ed4d-73e3-4d80-b09f-2e10caebbd13",
   "metadata": {},
   "outputs": [
    {
     "ename": "TypeError",
     "evalue": "Only integers are allowed",
     "output_type": "error",
     "traceback": [
      "\u001b[0;31m---------------------------------------------------------------------------\u001b[0m",
      "\u001b[0;31mTypeError\u001b[0m                                 Traceback (most recent call last)",
      "Cell \u001b[0;32mIn[9], line 6\u001b[0m\n\u001b[1;32m      3\u001b[0m x \u001b[38;5;241m=\u001b[39m \u001b[38;5;124m\"\u001b[39m\u001b[38;5;124mhello\u001b[39m\u001b[38;5;124m\"\u001b[39m\n\u001b[1;32m      5\u001b[0m \u001b[38;5;28;01mif\u001b[39;00m \u001b[38;5;129;01mnot\u001b[39;00m \u001b[38;5;28mtype\u001b[39m(x) \u001b[38;5;129;01mis\u001b[39;00m \u001b[38;5;28mint\u001b[39m:\n\u001b[0;32m----> 6\u001b[0m     \u001b[38;5;28;01mraise\u001b[39;00m \u001b[38;5;167;01mTypeError\u001b[39;00m(\u001b[38;5;124m\"\u001b[39m\u001b[38;5;124mOnly integers are allowed\u001b[39m\u001b[38;5;124m\"\u001b[39m)\n",
      "\u001b[0;31mTypeError\u001b[0m: Only integers are allowed"
     ]
    }
   ],
   "source": [
    "#raise: The raise keyword is used to raise an exception.\n",
    "#Example\n",
    "x = \"hello\"\n",
    "\n",
    "if not type(x) is int:\n",
    "    raise TypeError(\"Only integers are allowed\")"
   ]
  },
  {
   "cell_type": "code",
   "execution_count": 26,
   "id": "caed3ffb-7404-4e1f-a669-23799f5f35e1",
   "metadata": {},
   "outputs": [],
   "source": [
    "#Q5. In Python, we can define custom exceptions by creating a new class that is derived from the built-in Exception class.\n",
    "   # custom exceptions will add information about project-related problems.\n",
    "#Example\n",
    "class validateage(Exception):\n",
    "    def __init__(self, msg):\n",
    "        self.msg = msg\n",
    "def validate_age(age):\n",
    "    if age<17:\n",
    "        raise validateage(\"NOT valid for voting\")\n",
    "    elif age>100:\n",
    "        raise validateage(\"age is very high kindly chechk\")\n",
    "    else:\n",
    "        print(\"age is valid for voting\")"
   ]
  },
  {
   "cell_type": "code",
   "execution_count": 27,
   "id": "3ecc62e3-64fa-4892-8335-136359f22689",
   "metadata": {},
   "outputs": [
    {
     "name": "stdin",
     "output_type": "stream",
     "text": [
      "Enter your age =  18\n"
     ]
    },
    {
     "name": "stdout",
     "output_type": "stream",
     "text": [
      "age is valid for voting\n"
     ]
    }
   ],
   "source": [
    "try:\n",
    "    age = int(input(\"Enter your age = \"))\n",
    "    validate_age(age)\n",
    "except validateage as e:\n",
    "    print(e)"
   ]
  },
  {
   "cell_type": "code",
   "execution_count": 29,
   "id": "f3c8b015-f174-4081-aaca-73336dfd50cd",
   "metadata": {},
   "outputs": [],
   "source": [
    "#Q6."
   ]
  },
  {
   "cell_type": "code",
   "execution_count": 28,
   "id": "745b59df-b3ce-4861-ab95-f2099c817af8",
   "metadata": {},
   "outputs": [],
   "source": [
    "class validateage(Exception):\n",
    "    def __init__(self, msg):\n",
    "        self.msg = msg\n",
    "def validate_age(age):\n",
    "    if age<17:\n",
    "        raise validateage(\"NOT valid for voting\")\n",
    "    elif age>100:\n",
    "        raise validateage(\"age is very high kindly chechk\")\n",
    "    else:\n",
    "        print(\"age is valid for voting\")"
   ]
  },
  {
   "cell_type": "code",
   "execution_count": null,
   "id": "3c72a6dd-0ff4-4778-a4dc-056c6f42958e",
   "metadata": {},
   "outputs": [],
   "source": [
    "try:\n",
    "    age = int(input(\"Enter your age = \"))\n",
    "    validate_age(age)\n",
    "except validateage as e:\n",
    "    print(e)"
   ]
  }
 ],
 "metadata": {
  "kernelspec": {
   "display_name": "Python 3 (ipykernel)",
   "language": "python",
   "name": "python3"
  },
  "language_info": {
   "codemirror_mode": {
    "name": "ipython",
    "version": 3
   },
   "file_extension": ".py",
   "mimetype": "text/x-python",
   "name": "python",
   "nbconvert_exporter": "python",
   "pygments_lexer": "ipython3",
   "version": "3.10.8"
  }
 },
 "nbformat": 4,
 "nbformat_minor": 5
}
